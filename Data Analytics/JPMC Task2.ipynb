{
 "cells": [
  {
   "cell_type": "code",
   "execution_count": 40,
   "id": "128ed826",
   "metadata": {},
   "outputs": [
    {
     "name": "stdout",
     "output_type": "stream",
     "text": [
      "[100, 150]\n",
      "[np.float64(10.9), np.float64(11.2)]\n",
      "2\n",
      "[np.float64(-1090.0), np.float64(1680.0)]\n"
     ]
    },
    {
     "name": "stderr",
     "output_type": "stream",
     "text": [
      "C:\\Users\\Nikhil\\AppData\\Local\\Temp\\ipykernel_5796\\3537079284.py:9: UserWarning: Could not infer format, so each element will be parsed individually, falling back to `dateutil`. To ensure parsing is consistent and as-expected, please specify a format.\n",
      "  df = pd.read_csv('D:\\Power BI thing\\Forage Data sets\\JPMC Data analyst\\At_Gas.csv',index_col=0,parse_dates=True)\n"
     ]
    }
   ],
   "source": [
    "#Declare variables\n",
    "import datetime\n",
    "import pandas as pd\n",
    "import numpy as np\n",
    "#Constants - Storage Cost, Units in Millions\n",
    "\n",
    "storage_cost = 100000 #To be taken as input\n",
    "qty_bought = 1000000\n",
    "df = pd.read_csv('D:\\Power BI thing\\Forage Data sets\\JPMC Data analyst\\At_Gas.csv',index_col=0,parse_dates=True)\n",
    "\n",
    "#To extract price at a specific date\n",
    "X = df.values\n",
    "#print(X)\n",
    "#print(df)\n",
    "\n",
    "#Injection and withdrawal rates\n",
    "transaction_type = ['I'] #Injection OR Withdrawal\n",
    "specific_date = '2021-01-31' # Replace with whatever input date you want to check\n",
    "\n",
    "#Scaling the Rates as per volume\n",
    "\n",
    "\n",
    "class Contract():\n",
    "    def __init__(self,qty_bought,specific_date,transaction_type,storage_cost,injection_cost,max_volume,df):\n",
    "        self.qty_bought = qty_bought\n",
    "        self.specific_date = specific_date\n",
    "        self.transaction_type = transaction_type\n",
    "        self.storage_cost = storage_cost\n",
    "        self.injection_cost = injection_cost\n",
    "        self.max_volume = max_volume\n",
    "        self.df = df\n",
    "\n",
    "    def specific_rate(self):\n",
    "        rate = []\n",
    "        # Convert the specific date to a datetime object\n",
    "        for i in range(0,len(self.specific_date)):\n",
    "            valuetobeappenedintorate = self.df.loc[self.df.index == self.specific_date[i], 'Prices'].values\n",
    "            if valuetobeappenedintorate.size > 0:\n",
    "          \n",
    "                rate.append(valuetobeappenedintorate[0])\n",
    "            else: rate.append(0)\n",
    "\n",
    "        return rate\n",
    "\n",
    "    def price_calculation(self,current_rate):\n",
    "        prices = []\n",
    "        print(self.qty_bought)\n",
    "        print(current_rate)\n",
    "        print(len(self.qty_bought))\n",
    "        for i in range(0,len(self.qty_bought)):\n",
    "            prices.append(self.qty_bought[i] * current_rate[i])\n",
    "        \n",
    "        return prices\n",
    "    \n",
    "    def inflow_outflow(self,buying_cost):\n",
    "        for i in range(0, len(self.transaction_type)):\n",
    "            if self.transaction_type[i] == 'I':\n",
    "                buying_cost[i] = buying_cost[i] * (-1)\n",
    "        return buying_cost\n",
    "\n",
    "def main():\n",
    "    contract = Contract([100,150],['2021-01-31','2021-11-30'],['I','W'],10000,10000,1000000,df)\n",
    "\n",
    "    current_rate = contract.specific_rate()\n",
    "    buying_cost = contract.price_calculation(current_rate)\n",
    "    buying_cost = contract.inflow_outflow(buying_cost)\n",
    "    print(buying_cost)\n",
    "    return\n",
    "\n",
    "main()\n"
   ]
  }
 ],
 "metadata": {
  "kernelspec": {
   "display_name": "Python 3",
   "language": "python",
   "name": "python3"
  },
  "language_info": {
   "codemirror_mode": {
    "name": "ipython",
    "version": 3
   },
   "file_extension": ".py",
   "mimetype": "text/x-python",
   "name": "python",
   "nbconvert_exporter": "python",
   "pygments_lexer": "ipython3",
   "version": "3.11.4"
  }
 },
 "nbformat": 4,
 "nbformat_minor": 5
}
