{
 "cells": [
  {
   "cell_type": "code",
   "execution_count": null,
   "id": "3a7764fe",
   "metadata": {},
   "outputs": [
    {
     "name": "stdout",
     "output_type": "stream",
     "text": [
      "Current working directory: D:\\Power BI thing\\Forage Data sets\\JPMC Data analyst\n",
      "os.getcwd() returns an object of type <class 'str'>\n",
      "<class 'pandas.core.frame.DataFrame'>\n",
      "DatetimeIndex: 48 entries, 2020-10-31 to 2024-09-30\n",
      "Data columns (total 2 columns):\n",
      " #   Column       Non-Null Count  Dtype  \n",
      "---  ------       --------------  -----  \n",
      " 0   Prices       48 non-null     float64\n",
      " 1   Prices_diff  48 non-null     float64\n",
      "dtypes: float64(2)\n",
      "memory usage: 1.1 KB\n"
     ]
    },
    {
     "name": "stderr",
     "output_type": "stream",
     "text": [
      "C:\\Users\\Nikhil\\AppData\\Local\\Temp\\ipykernel_5528\\3592834518.py:20: UserWarning: Could not infer format, so each element will be parsed individually, falling back to `dateutil`. To ensure parsing is consistent and as-expected, please specify a format.\n",
      "  df = pd.read_csv('At_Gas.csv', parse_dates=['Dates'])\n",
      "C:\\Users\\Nikhil\\AppData\\Local\\Temp\\ipykernel_5528\\3592834518.py:24: UserWarning: The argument 'infer_datetime_format' is deprecated and will be removed in a future version. A strict version of it is now the default, see https://pandas.pydata.org/pdeps/0004-consistent-to-datetime-parsing.html. You can safely remove this argument.\n",
      "  df['Dates'] = pd.to_datetime(df['Dates'], infer_datetime_format=True)\n",
      "C:\\Users\\Nikhil\\AppData\\Local\\Temp\\ipykernel_5528\\3592834518.py:30: FutureWarning: A value is trying to be set on a copy of a DataFrame or Series through chained assignment using an inplace method.\n",
      "The behavior will change in pandas 3.0. This inplace method will never work because the intermediate object on which we are setting values always behaves as a copy.\n",
      "\n",
      "For example, when doing 'df[col].method(value, inplace=True)', try using 'df.method({col: value}, inplace=True)' or df[col] = df[col].method(value) instead, to perform the operation inplace on the original object.\n",
      "\n",
      "\n",
      "  df['Prices_diff'].fillna(method='backfill', inplace=True)\n",
      "C:\\Users\\Nikhil\\AppData\\Local\\Temp\\ipykernel_5528\\3592834518.py:30: FutureWarning: Series.fillna with 'method' is deprecated and will raise in a future version. Use obj.ffill() or obj.bfill() instead.\n",
      "  df['Prices_diff'].fillna(method='backfill', inplace=True)\n"
     ]
    }
   ],
   "source": [
    "import os\n",
    "\n",
    "from statsmodels.tsa.stattools import adfuller\n",
    "\n",
    "from statsmodels.tsa.seasonal import seasonal_decompose\n",
    "cwd = os.getcwd()\n",
    "\n",
    "print(\"Current working directory: {0}\".format(cwd))\n",
    "\n",
    "print (\"os.getcwd() returns an object of type {0}\".format(type(cwd)))\n",
    "\n",
    "# copy the filepath \n",
    "os.chdir (\"D:\\Power BI thing\\Forage Data sets\\JPMC Data analyst\")\n",
    "import pandas as pd\n",
    "\n",
    "\n",
    "from matplotlib import pyplot as plt\n",
    "from datetime import date,timedelta\n",
    "\n",
    "\n",
    "df = pd.read_csv('At_Gas.csv', parse_dates=['Dates'])\n",
    "prices = df['Prices'].values\n",
    "dates = df['Dates'].values\n",
    "\n",
    "df['Dates'] = pd.to_datetime(df['Dates'], infer_datetime_format=True)\n",
    "df = df.set_index(['Dates'])\n",
    "\n",
    "df['Prices_diff'] = df['Prices'].diff(periods=12)\n",
    "\n",
    "\n",
    "df['Prices_diff'].fillna(method='backfill', inplace=True)\n",
    "df.info()"
   ]
  }
 ],
 "metadata": {
  "kernelspec": {
   "display_name": "Python 3",
   "language": "python",
   "name": "python3"
  },
  "language_info": {
   "codemirror_mode": {
    "name": "ipython",
    "version": 3
   },
   "file_extension": ".py",
   "mimetype": "text/x-python",
   "name": "python",
   "nbconvert_exporter": "python",
   "pygments_lexer": "ipython3",
   "version": "3.11.4"
  }
 },
 "nbformat": 4,
 "nbformat_minor": 5
}
